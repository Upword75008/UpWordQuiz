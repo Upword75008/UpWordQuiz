Open In Colab

%cd /content
# import os
# os.environ["COQUI_TOS_AGREED"] = "1"
# !pip install -q TTS==0.17.8
!git clone -b v1.1 https://github.com/camenduru/SadTalker
!pip install -q gradio safetensors kornia facexlib yacs gfpgan
%cd /content/SadTalker

!apt -y install -qq aria2
!aria2c --console-log-level=error -c -x 16 -s 16 -k 1M https://huggingface.co/camenduru/SadTalker/resolve/main/new/checkpoints/SadTalker_V0.0.2_256.safetensors -d /content/SadTalker/checkpoints -o SadTalker_V0.0.2_256.safetensors
!aria2c --console-log-level=error -c -x 16 -s 16 -k 1M https://huggingface.co/camenduru/SadTalker/resolve/main/new/checkpoints/SadTalker_V0.0.2_512.safetensors -d /content/SadTalker/checkpoints -o SadTalker_V0.0.2_512.safetensors
!aria2c --console-log-level=error -c -x 16 -s 16 -k 1M https://huggingface.co/camenduru/SadTalker/resolve/main/new/checkpoints/mapping_00109-model.pth.tar -d /content/SadTalker/checkpoints -o mapping_00109-model.pth.tar
!aria2c --console-log-level=error -c -x 16 -s 16 -k 1M https://huggingface.co/camenduru/SadTalker/resolve/main/new/checkpoints/mapping_00229-model.pth.tar -d /content/SadTalker/checkpoints -o mapping_00229-model.pth.tar
!aria2c --console-log-level=error -c -x 16 -s 16 -k 1M https://huggingface.co/camenduru/SadTalker/resolve/main/new/gfpgan/weights/GFPGANv1.4.pth -d /content/SadTalker/gfpgan/weights -o GFPGANv1.4.pth
!aria2c --console-log-level=error -c -x 16 -s 16 -k 1M https://huggingface.co/camenduru/SadTalker/resolve/main/new/gfpgan/weights/alignment_WFLW_4HG.pth -d /content/SadTalker/gfpgan/weights -o alignment_WFLW_4HG.pth
!aria2c --console-log-level=error -c -x 16 -s 16 -k 1M https://huggingface.co/camenduru/SadTalker/resolve/main/new/gfpgan/weights/detection_Resnet50_Final.pth -d /content/SadTalker/gfpgan/weights -o detection_Resnet50_Final.pth
!aria2c --console-log-level=error -c -x 16 -s 16 -k 1M https://huggingface.co/camenduru/SadTalker/resolve/main/new/gfpgan/weights/parsing_parsenet.pth -d /content/SadTalker/gfpgan/weights -o parsing_parsenet.pth

!python app_sadtalker.py
     
/content
fatal: destination path 'SadTalker' already exists and is not an empty directory.
/content/SadTalker
aria2 is already the newest version (1.36.0-1).
0 upgraded, 0 newly installed, 0 to remove and 35 not upgraded.

Download Results:
gid   |stat|avg speed  |path/URI
======+====+===========+=======================================================
142962|OK  |       0B/s|/content/SadTalker/checkpoints/SadTalker_V0.0.2_256.safetensors

Status Legend:
(OK):download completed.

Download Results:
gid   |stat|avg speed  |path/URI
======+====+===========+=======================================================
a054a4|OK  |       0B/s|/content/SadTalker/checkpoints/SadTalker_V0.0.2_512.safetensors

Status Legend:
(OK):download completed.

Download Results:
gid   |stat|avg speed  |path/URI
======+====+===========+=======================================================
89a1a6|OK  |       0B/s|/content/SadTalker/checkpoints/mapping_00109-model.pth.tar

Status Legend:
(OK):download completed.

Download Results:
gid   |stat|avg speed  |path/URI
======+====+===========+=======================================================
be57ce|OK  |       0B/s|/content/SadTalker/checkpoints/mapping_00229-model.pth.tar

Status Legend:
(OK):download completed.

Download Results:
gid   |stat|avg speed  |path/URI
======+====+===========+=======================================================
7828b2|OK  |       0B/s|/content/SadTalker/gfpgan/weights/GFPGANv1.4.pth

Status Legend:
(OK):download completed.

Download Results:
gid   |stat|avg speed  |path/URI
======+====+===========+=======================================================
be53dd|OK  |       0B/s|/content/SadTalker/gfpgan/weights/alignment_WFLW_4HG.pth

Status Legend:
(OK):download completed.

Download Results:
gid   |stat|avg speed  |path/URI
======+====+===========+=======================================================
2ed892|OK  |       0B/s|/content/SadTalker/gfpgan/weights/detection_Resnet50_Final.pth

Status Legend:
(OK):download completed.

Download Results:
gid   |stat|avg speed  |path/URI
======+====+===========+=======================================================
6e93aa|OK  |       0B/s|/content/SadTalker/gfpgan/weights/parsing_parsenet.pth

Status Legend:
(OK):download completed.
Traceback (most recent call last):
  File "/content/SadTalker/app_sadtalker.py", line 3, in <module>
    from src.gradio_demo import SadTalker  
    ^^^^^^^^^^^^^^^^^^^^^^^^^^^^^^^^^^^^^
  File "/content/SadTalker/src/gradio_demo.py", line 3, in <module>
    from src.utils.preprocess import CropAndExtract
  File "/content/SadTalker/src/utils/preprocess.py", line 9, in <module>
    from src.face3d.util.preprocess import align_img
  File "/content/SadTalker/src/face3d/util/preprocess.py", line 12, in <module>
    warnings.filterwarnings("ignore", category=np.VisibleDeprecationWarning) 
                                               ^^^^^^^^^^^^^^^^^^^^^^^^^^^^
  File "/usr/local/lib/python3.11/dist-packages/numpy/__init__.py", line 410, in __getattr__
    raise AttributeError("module {!r} has no attribute "
AttributeError: module 'numpy' has no attribute 'VisibleDeprecationWarning'
